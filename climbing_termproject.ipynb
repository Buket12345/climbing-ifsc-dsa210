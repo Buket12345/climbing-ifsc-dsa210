{
  "nbformat": 4,
  "nbformat_minor": 0,
  "metadata": {
    "colab": {
      "provenance": [],
      "authorship_tag": "ABX9TyM4oCT7BbKoe4lUBVHJwf4s",
      "include_colab_link": true
    },
    "kernelspec": {
      "name": "python3",
      "display_name": "Python 3"
    },
    "language_info": {
      "name": "python"
    }
  },
  "cells": [
    {
      "cell_type": "markdown",
      "metadata": {
        "id": "view-in-github",
        "colab_type": "text"
      },
      "source": [
        "<a href=\"https://colab.research.google.com/github/Buket12345/climbing-ifsc-dsa210/blob/main/climbing_termproject.ipynb\" target=\"_parent\"><img src=\"https://colab.research.google.com/assets/colab-badge.svg\" alt=\"Open In Colab\"/></a>"
      ]
    },
    {
      "cell_type": "code",
      "execution_count": 4,
      "metadata": {
        "colab": {
          "base_uri": "https://localhost:8080/"
        },
        "id": "x5xCWR3Sou0x",
        "outputId": "16e0e32c-e880-4dac-8ddb-dfbb38e2d037"
      },
      "outputs": [
        {
          "output_type": "stream",
          "name": "stdout",
          "text": [
            "(16258, 10) (135444, 8)\n"
          ]
        },
        {
          "output_type": "execute_result",
          "data": {
            "text/plain": [
              "(   athlete_id   firstname    lastname   age  gender country  height  arm_span  \\\n",
              " 0           1        Arno     DIMMLER  57.0    male     GER     NaN       NaN   \n",
              " 1           5     Philipp      HROZEK  42.0    male     GER   188.0     190.0   \n",
              " 2          17  Friederike       TAUTZ  32.0  female     GER     NaN       NaN   \n",
              " 3           7      Martin  SCHLAGETER  58.0    male     GER   178.0     182.0   \n",
              " 4           2        Maxi       KLAUS  52.0    male     GER     NaN       NaN   \n",
              " \n",
              "                   paraclimbing_sport_class    birthday  \n",
              " 0                                      NaN  1967-01-01  \n",
              " 1  Limited Range, Power & Stability 2: RP2  1982-01-13  \n",
              " 2                                      NaN  1992-02-29  \n",
              " 3                                      NaN  1966-03-15  \n",
              " 4                                      NaN  1972-08-04  ,\n",
              "    athlete_id  rank discipline  season        date  event_id  event_location  \\\n",
              " 0          14     1       lead    2024  2024-09-28      1391       Arco (TN)   \n",
              " 1          14     2       lead    2024  2024-08-25      1395         Villars   \n",
              " 2          14     3       lead    2024  2024-06-25      1387       Innsbruck   \n",
              " 3          14     1       lead    2024  2024-05-09      1388  Salt Lake City   \n",
              " 4          14     1       lead    2022  2022-07-09      1280         Villars   \n",
              " \n",
              "    d_cat  \n",
              " 0    585  \n",
              " 1    585  \n",
              " 2    585  \n",
              " 3    585  \n",
              " 4    585  )"
            ]
          },
          "metadata": {},
          "execution_count": 4
        }
      ],
      "source": [
        "import pandas as pd\n",
        "import matplotlib.pyplot as plt\n",
        "import numpy as np\n",
        "import seaborn as sns\n",
        "\n",
        "\n",
        "github_link = \"https://raw.githubusercontent.com/Buket12345/climbing-ifsc-dsa210/main\"\n",
        "info_link = f\"{github_link}/athlete_information.csv\"\n",
        "results_link = f\"{github_link}/athlete_results.csv\"\n",
        "info = pd.read_csv(info_link)\n",
        "results = pd.read_csv(results_link)\n",
        "\n",
        "print(info.shape, results.shape)\n"
      ]
    }
  ]
}